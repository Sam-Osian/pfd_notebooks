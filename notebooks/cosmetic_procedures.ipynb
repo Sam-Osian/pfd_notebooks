{
 "cells": [
  {
   "cell_type": "code",
   "execution_count": 1,
   "metadata": {},
   "outputs": [
    {
     "name": "stdout",
     "output_type": "stream",
     "text": [
      "5728 PFD reports were published before 1st June 2025.\n"
     ]
    }
   ],
   "source": [
    "from pfd_toolkit import load_reports, LLM, Extractor, Screener\n",
    "from dotenv import load_dotenv\n",
    "import os\n",
    "\n",
    "reports = load_reports(\n",
    "    refresh=True,\n",
    "    end_date=\"2025-06-01\")\n",
    "\n",
    "print(f\"{len(reports)} PFD reports were published before 1st June 2025.\")"
   ]
  },
  {
   "cell_type": "code",
   "execution_count": null,
   "metadata": {},
   "outputs": [],
   "source": [
    "# Load OpenAI API key\n",
    "load_dotenv(\"../api.env\")\n",
    "openai_api_key = os.getenv(\"OPENAI_API_KEY\")\n",
    "\n",
    "# Initialise LLM client\n",
    "llm_client = LLM(api_key=openai_api_key, \n",
    "                 model=\"gpt-4.1-mini\",\n",
    "                 max_workers=25,\n",
    "                 seed=123, \n",
    "                 timeout=30\n",
    "                 )"
   ]
  },
  {
   "cell_type": "code",
   "execution_count": null,
   "metadata": {},
   "outputs": [
    {
     "name": "stderr",
     "output_type": "stream",
     "text": [
      "Sending requests to the LLM: 100%|██████████| 5728/5728 [02:34<00:00, 37.07it/s]\n"
     ]
    },
    {
     "name": "stdout",
     "output_type": "stream",
     "text": [
      "From our initial 5728 PFD reports, PFD Toolkit identified 7 matching reports.\n"
     ]
    }
   ],
   "source": [
    "# Initalise Screener\n",
    "surgical_screener = Screener(llm=llm_client,\n",
    "                             reports=reports)\n",
    "\n",
    "# Set user query & run Screener\n",
    "query=\"Reports mentioning death following **cosmetic** procedures (both surgical and non-surgical and including breast implants)\"\n",
    "\n",
    "filtered_reports = surgical_screener.screen_reports(user_query=query,\n",
    "                                 produce_spans=True)\n",
    "\n",
    "\n",
    "print(f\"From our initial {len(reports)} PFD reports, PFD Toolkit identified {len(filtered_reports)} matching reports.\")"
   ]
  },
  {
   "cell_type": "code",
   "execution_count": 4,
   "metadata": {},
   "outputs": [
    {
     "data": {
      "text/html": [
       "<div>\n",
       "<style scoped>\n",
       "    .dataframe tbody tr th:only-of-type {\n",
       "        vertical-align: middle;\n",
       "    }\n",
       "\n",
       "    .dataframe tbody tr th {\n",
       "        vertical-align: top;\n",
       "    }\n",
       "\n",
       "    .dataframe thead th {\n",
       "        text-align: right;\n",
       "    }\n",
       "</style>\n",
       "<table border=\"1\" class=\"dataframe\">\n",
       "  <thead>\n",
       "    <tr style=\"text-align: right;\">\n",
       "      <th></th>\n",
       "      <th>url</th>\n",
       "      <th>id</th>\n",
       "      <th>date</th>\n",
       "      <th>coroner</th>\n",
       "      <th>area</th>\n",
       "      <th>receiver</th>\n",
       "      <th>investigation</th>\n",
       "      <th>circumstances</th>\n",
       "      <th>concerns</th>\n",
       "      <th>spans_matches_query</th>\n",
       "    </tr>\n",
       "  </thead>\n",
       "  <tbody>\n",
       "    <tr>\n",
       "      <th>180</th>\n",
       "      <td>https://www.judiciary.uk/prevention-of-future-...</td>\n",
       "      <td>2025-0116</td>\n",
       "      <td>2025-02-10</td>\n",
       "      <td>I. Thistlethwaite</td>\n",
       "      <td>Rutland and North Leicestershire</td>\n",
       "      <td>The Secretary of State for Health and Social Care</td>\n",
       "      <td>On 31st May 2024 I commenced an investigation ...</td>\n",
       "      <td>Mrs Towlson was a 58 year old female who was f...</td>\n",
       "      <td>I am concerned about the fact that the inquest...</td>\n",
       "      <td>\"cosmetic surgery\"; \"tummy tuck and liposuctio...</td>\n",
       "    </tr>\n",
       "    <tr>\n",
       "      <th>517</th>\n",
       "      <td>https://www.judiciary.uk/prevention-of-future-...</td>\n",
       "      <td>2024-0436</td>\n",
       "      <td>2024-08-08</td>\n",
       "      <td>K. Hayes</td>\n",
       "      <td>Surrey</td>\n",
       "      <td>Secretary of State for Health &amp; Social Care; P...</td>\n",
       "      <td>On 15 June 2023, I commenced an investigation ...</td>\n",
       "      <td>Mrs Stokes died of radiation induced sarcoma, ...</td>\n",
       "      <td>I am concerned that there is not any or insuff...</td>\n",
       "      <td>\"breast implant\"; \"reconstructive surgery whic...</td>\n",
       "    </tr>\n",
       "    <tr>\n",
       "      <th>1156</th>\n",
       "      <td>https://www.judiciary.uk/prevention-of-future-...</td>\n",
       "      <td>2023-0330</td>\n",
       "      <td>2023-09-13</td>\n",
       "      <td>J. Lake</td>\n",
       "      <td>Norfolk</td>\n",
       "      <td>The Secretary of State for Health and Social C...</td>\n",
       "      <td>On 9 December 2019 I commenced an investigatio...</td>\n",
       "      <td>Melissa Kerr was admitted to Private Medicana ...</td>\n",
       "      <td>Expert evidence was heard that the findings in...</td>\n",
       "      <td>\"underwent surgery to harvest fat from the abd...</td>\n",
       "    </tr>\n",
       "    <tr>\n",
       "      <th>2276</th>\n",
       "      <td>https://www.judiciary.uk/prevention-of-future-...</td>\n",
       "      <td>2021-0064</td>\n",
       "      <td>2021-03-04</td>\n",
       "      <td>M. Hassell</td>\n",
       "      <td>Inner North London</td>\n",
       "      <td>Chief Executive Phoenix Hospital Group</td>\n",
       "      <td>On 6 October 2020, I commenced an investigatio...</td>\n",
       "      <td>Paula Speirs died from the ingestion of benzod...</td>\n",
       "      <td>When Ms Speirs arrived at Weymouth Street Hosp...</td>\n",
       "      <td>\"submental recontouring and a mini face lift\";...</td>\n",
       "    </tr>\n",
       "    <tr>\n",
       "      <th>2627</th>\n",
       "      <td>https://www.judiciary.uk/prevention-of-future-...</td>\n",
       "      <td>2020-0260</td>\n",
       "      <td>2020-01-31</td>\n",
       "      <td>J. Bennett</td>\n",
       "      <td>Birmingham and Solihull</td>\n",
       "      <td>British Association of Aesthetic &amp; Plastic Sur...</td>\n",
       "      <td>On 10th September 2019 I commenced an investig...</td>\n",
       "      <td>Mrs Brooks had debilitating lipoedema from the...</td>\n",
       "      <td>Large volume liposuction is the recognised tre...</td>\n",
       "      <td>\"liposuction procedures\"; \"Large volume liposu...</td>\n",
       "    </tr>\n",
       "    <tr>\n",
       "      <th>2715</th>\n",
       "      <td>https://www.judiciary.uk/prevention-of-future-...</td>\n",
       "      <td>2019-0408</td>\n",
       "      <td>2019-11-29</td>\n",
       "      <td>K. McLoughlin</td>\n",
       "      <td>West Yorkshire</td>\n",
       "      <td>Joseph Hill, Solicitors; The Secretary of Stat...</td>\n",
       "      <td>On 5 September 2018 an investigation was comme...</td>\n",
       "      <td>Leah L Cambridge aged 29 travelled to Izmir Tu...</td>\n",
       "      <td>Notwithstanding the death of Ms Cambridge on 2...</td>\n",
       "      <td>\"cosmetic surgical procedure\"; \"Brazilian Butt...</td>\n",
       "    </tr>\n",
       "    <tr>\n",
       "      <th>4401</th>\n",
       "      <td>https://www.judiciary.uk/prevention-of-future-...</td>\n",
       "      <td>2016-0113</td>\n",
       "      <td>2016-03-18</td>\n",
       "      <td>M. Hassell</td>\n",
       "      <td>Inner North London</td>\n",
       "      <td>Medical Director Homerton University Hospital ...</td>\n",
       "      <td>On 25 November 2015, one of my assistant coron...</td>\n",
       "      <td>Ms Pathan was admitted to Homerton University ...</td>\n",
       "      <td>Although Ms Pathan's MENTOR breast implant was...</td>\n",
       "      <td>\"breast reconstruction wound\"; \"Ms Pathan's ME...</td>\n",
       "    </tr>\n",
       "  </tbody>\n",
       "</table>\n",
       "</div>"
      ],
      "text/plain": [
       "                                                    url         id       date  \\\n",
       "180   https://www.judiciary.uk/prevention-of-future-...  2025-0116 2025-02-10   \n",
       "517   https://www.judiciary.uk/prevention-of-future-...  2024-0436 2024-08-08   \n",
       "1156  https://www.judiciary.uk/prevention-of-future-...  2023-0330 2023-09-13   \n",
       "2276  https://www.judiciary.uk/prevention-of-future-...  2021-0064 2021-03-04   \n",
       "2627  https://www.judiciary.uk/prevention-of-future-...  2020-0260 2020-01-31   \n",
       "2715  https://www.judiciary.uk/prevention-of-future-...  2019-0408 2019-11-29   \n",
       "4401  https://www.judiciary.uk/prevention-of-future-...  2016-0113 2016-03-18   \n",
       "\n",
       "                coroner                              area  \\\n",
       "180   I. Thistlethwaite  Rutland and North Leicestershire   \n",
       "517            K. Hayes                            Surrey   \n",
       "1156            J. Lake                           Norfolk   \n",
       "2276         M. Hassell                Inner North London   \n",
       "2627         J. Bennett           Birmingham and Solihull   \n",
       "2715      K. McLoughlin                    West Yorkshire   \n",
       "4401         M. Hassell                Inner North London   \n",
       "\n",
       "                                               receiver  \\\n",
       "180   The Secretary of State for Health and Social Care   \n",
       "517   Secretary of State for Health & Social Care; P...   \n",
       "1156  The Secretary of State for Health and Social C...   \n",
       "2276             Chief Executive Phoenix Hospital Group   \n",
       "2627  British Association of Aesthetic & Plastic Sur...   \n",
       "2715  Joseph Hill, Solicitors; The Secretary of Stat...   \n",
       "4401  Medical Director Homerton University Hospital ...   \n",
       "\n",
       "                                          investigation  \\\n",
       "180   On 31st May 2024 I commenced an investigation ...   \n",
       "517   On 15 June 2023, I commenced an investigation ...   \n",
       "1156  On 9 December 2019 I commenced an investigatio...   \n",
       "2276  On 6 October 2020, I commenced an investigatio...   \n",
       "2627  On 10th September 2019 I commenced an investig...   \n",
       "2715  On 5 September 2018 an investigation was comme...   \n",
       "4401  On 25 November 2015, one of my assistant coron...   \n",
       "\n",
       "                                          circumstances  \\\n",
       "180   Mrs Towlson was a 58 year old female who was f...   \n",
       "517   Mrs Stokes died of radiation induced sarcoma, ...   \n",
       "1156  Melissa Kerr was admitted to Private Medicana ...   \n",
       "2276  Paula Speirs died from the ingestion of benzod...   \n",
       "2627  Mrs Brooks had debilitating lipoedema from the...   \n",
       "2715  Leah L Cambridge aged 29 travelled to Izmir Tu...   \n",
       "4401  Ms Pathan was admitted to Homerton University ...   \n",
       "\n",
       "                                               concerns  \\\n",
       "180   I am concerned about the fact that the inquest...   \n",
       "517   I am concerned that there is not any or insuff...   \n",
       "1156  Expert evidence was heard that the findings in...   \n",
       "2276  When Ms Speirs arrived at Weymouth Street Hosp...   \n",
       "2627  Large volume liposuction is the recognised tre...   \n",
       "2715  Notwithstanding the death of Ms Cambridge on 2...   \n",
       "4401  Although Ms Pathan's MENTOR breast implant was...   \n",
       "\n",
       "                                    spans_matches_query  \n",
       "180   \"cosmetic surgery\"; \"tummy tuck and liposuctio...  \n",
       "517   \"breast implant\"; \"reconstructive surgery whic...  \n",
       "1156  \"underwent surgery to harvest fat from the abd...  \n",
       "2276  \"submental recontouring and a mini face lift\";...  \n",
       "2627  \"liposuction procedures\"; \"Large volume liposu...  \n",
       "2715  \"cosmetic surgical procedure\"; \"Brazilian Butt...  \n",
       "4401  \"breast reconstruction wound\"; \"Ms Pathan's ME...  "
      ]
     },
     "execution_count": 4,
     "metadata": {},
     "output_type": "execute_result"
    }
   ],
   "source": [
    "filtered_reports"
   ]
  },
  {
   "cell_type": "code",
   "execution_count": 12,
   "metadata": {},
   "outputs": [
    {
     "name": "stderr",
     "output_type": "stream",
     "text": [
      "Extracting features: 100%|██████████| 7/7 [00:17<00:00,  2.55s/it]\n"
     ]
    }
   ],
   "source": [
    "from pydantic import BaseModel, Field\n",
    "\n",
    "llm_client.model=\"gpt-4.1\"\n",
    "\n",
    "# Define feature model with pydantic\n",
    "class MyFeatures(BaseModel):\n",
    "    name: str = Field(description=\"The name of the deceased, where provided.\")\n",
    "    age: int = Field(description=\"The age of the deceased, where provided.\")\n",
    "    procedure: str = Field(description=\"The names of the cosmetic procedure(s) the deceased received, as stated in the report.\")\n",
    "    cause_of_death: str = Field(description=\"Specific cause of death following the procedure, where provided.\")\n",
    "    consent: str = Field(description=\"What the report says about the effectiveness of informed consent, if anything. Verbatim.\")\n",
    "    product_regulation: str = Field(description=\"What the report says about Product and provider regulation, if anything. Verbatim.\")\n",
    "    public_education: str = Field(description=\"What the report says about public education, if anything. Verbatim.\")\n",
    "    research_gaps: str = Field(description=\"What the reports says about Research gaps, if anything. Verbatim.\")\n",
    "    recourse: str = Field(description=\"What the report says about Remedy and recourse, if anything. Verbatim.\")\n",
    "    cosmetic_tourism: str = Field(description=\"What the report says about Cosmetic tourism, if anything. Verbatim.\")\n",
    "    \n",
    "\n",
    "extractor = Extractor(llm=llm_client, reports=filtered_reports)\n",
    "\n",
    "# Extract features\n",
    "reports_features = extractor.extract_features(feature_model=MyFeatures,\n",
    "                           produce_spans=True,\n",
    "                           drop_spans=True,\n",
    "                           allow_multiple=True)"
   ]
  },
  {
   "cell_type": "code",
   "execution_count": 13,
   "metadata": {},
   "outputs": [
    {
     "name": "stderr",
     "output_type": "stream",
     "text": [
      "Summarising reports:   0%|          | 0/7 [00:00<?, ?it/s]"
     ]
    },
    {
     "name": "stderr",
     "output_type": "stream",
     "text": [
      "                                                                  \r"
     ]
    }
   ],
   "source": [
    "# Add a summary column\n",
    "\n",
    "reports_features = extractor.summarise()"
   ]
  },
  {
   "cell_type": "code",
   "execution_count": 14,
   "metadata": {},
   "outputs": [],
   "source": [
    "reports_features.to_csv(\"../data/cosmetic_surgery.csv\")"
   ]
  }
 ],
 "metadata": {
  "kernelspec": {
   "display_name": "pfd-notebooks",
   "language": "python",
   "name": "python3"
  },
  "language_info": {
   "codemirror_mode": {
    "name": "ipython",
    "version": 3
   },
   "file_extension": ".py",
   "mimetype": "text/x-python",
   "name": "python",
   "nbconvert_exporter": "python",
   "pygments_lexer": "ipython3",
   "version": "3.12.9"
  }
 },
 "nbformat": 4,
 "nbformat_minor": 2
}
